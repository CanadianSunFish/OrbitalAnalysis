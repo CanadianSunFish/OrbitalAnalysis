{
 "cells": [
  {
   "cell_type": "markdown",
   "metadata": {},
   "source": [
    "A vector is written in terms of its components \n",
    "$$\\textbf{A}=A_x\\^{i} + A_y\\^{i} + A_z\\^{i}$$\n",
    "with a projection of A onto the xy plane being\n",
    "$$\\textbf{A}_{xy}=A_x\\^{i}+A_y\\^{i}$$\n",
    "\n",
    "\n",
    "The magnitude of A can be shown to be\n",
    "$$||A|| = \\sqrt{A_x^2+A_y^2+A_z^2}$$\n",
    "by utilizing the Pythagorean theorm.\n",
    "\n",
    "Thus the unit vector in the direction of $\\textbf{A}$ is\n",
    "$$\\textbf{\\^{u}}_A = \\cos{\\theta_x}\\textbf{\\^{i}} + \\cos{\\theta_y}\\textbf{\\^{j}} + \\cos{\\theta_z}\\textbf{\\^{j}}$$\n",
    "where the direction angles can be calculated using\n",
    "$$\n",
    "\\cos{\\theta_x}=\\frac{A_x}{A},\\hspace{1cm} \n",
    "\\cos{\\theta_y}=\\frac{A_x}{A},\\hspace{1cm}\n",
    "\\cos{\\theta_z}=\\frac{A_x}{A}\n",
    "$$\n",
    "\n",
    "$\\textbf{Example}:\\\\$\n",
    "Determine the direction angles of the vector \n",
    "$$\\textbf{A} = \\textbf{\\^i} - 4\\textbf{\\^j} + 8\\textbf{\\^i}$$"
   ]
  },
  {
   "cell_type": "code",
   "execution_count": 10,
   "metadata": {},
   "outputs": [
    {
     "name": "stdout",
     "output_type": "stream",
     "text": [
      "A: 9.0, theta_x: 83.62, theta_y: 116.39, theta_z: 27.27\n"
     ]
    }
   ],
   "source": [
    "import numpy as np\n",
    "\n",
    "A = np.sqrt(1**2 + (-4)**2 + 8**2)\n",
    "\n",
    "theta_x = np.rad2deg(np.arccos(1/A))\n",
    "theta_y = np.rad2deg(np.arccos(-4/A))\n",
    "theta_z = np.rad2deg(np.arccos(8/A))\n",
    "\n",
    "print(f'A: {A}, theta_x: {theta_x:0.2f}, theta_y: {theta_y:0.2f}, theta_z: {theta_z:0.2f}')"
   ]
  },
  {
   "cell_type": "markdown",
   "metadata": {},
   "source": [
    "The dot product of two vectors is a scalar with formula\n",
    "$$\\textbf{A}\\cdot\\textbf{B} = AB\\cos\\theta \\hspace{1cm} Note: \\textbf{A}\\cdot\\textbf{B} = \\textbf{B}\\cdot\\textbf{A} $$\n",
    "with the value of the dot product being 0 if the vectors are orthogonal, and 1 if the vectors are identical. \n",
    "$$\\textbf{\\^i}\\cdot\\textbf{\\^i}=\\textbf{\\^j}\\cdot\\textbf{\\^j}=\\textbf{\\^k}\\cdot\\textbf{\\^k} = 1$$\n",
    "\n",
    "The dot product also takes another form \n",
    "$$ \\textbf{A}\\cdot\\textbf{B} = A_xB_x + A_yB_y + A_zB_z$$\n",
    "\n",
    "and can similarly be called the inner product of Euclidean space.\n",
    "$$\\\\$$\n",
    "The dot product is used to project one vector onto another, and the dot product $\\textbf{A}\\cdot\\textbf{B}$ will be 1 if vector A perfectly projects onto the line of action of vector B.\n",
    "$$\\\\$$\n",
    "\n"
   ]
  }
 ],
 "metadata": {
  "kernelspec": {
   "display_name": ".venv",
   "language": "python",
   "name": "python3"
  },
  "language_info": {
   "codemirror_mode": {
    "name": "ipython",
    "version": 3
   },
   "file_extension": ".py",
   "mimetype": "text/x-python",
   "name": "python",
   "nbconvert_exporter": "python",
   "pygments_lexer": "ipython3",
   "version": "3.11.2"
  }
 },
 "nbformat": 4,
 "nbformat_minor": 2
}
